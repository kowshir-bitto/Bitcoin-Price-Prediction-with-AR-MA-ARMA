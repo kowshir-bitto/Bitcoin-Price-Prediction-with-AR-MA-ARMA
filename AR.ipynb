{
  "nbformat": 4,
  "nbformat_minor": 0,
  "metadata": {
    "colab": {
      "name": "BitcoinAR.ipynb",
      "provenance": [],
      "collapsed_sections": []
    },
    "kernelspec": {
      "name": "python3",
      "display_name": "Python 3"
    },
    "language_info": {
      "name": "python"
    }
  },
  "cells": [
    {
      "cell_type": "code",
      "metadata": {
        "colab": {
          "base_uri": "https://localhost:8080/"
        },
        "id": "Y2aVKvhWczmt",
        "outputId": "612bdc87-b2d9-4e36-8fdf-bacc94e8c1a7"
      },
      "source": [
        "pip install yfinance"
      ],
      "execution_count": null,
      "outputs": [
        {
          "output_type": "stream",
          "name": "stdout",
          "text": [
            "Collecting yfinance\n",
            "  Downloading yfinance-0.1.63.tar.gz (26 kB)\n",
            "Requirement already satisfied: pandas>=0.24 in /usr/local/lib/python3.7/dist-packages (from yfinance) (1.1.5)\n",
            "Requirement already satisfied: numpy>=1.15 in /usr/local/lib/python3.7/dist-packages (from yfinance) (1.19.5)\n",
            "Requirement already satisfied: requests>=2.20 in /usr/local/lib/python3.7/dist-packages (from yfinance) (2.23.0)\n",
            "Requirement already satisfied: multitasking>=0.0.7 in /usr/local/lib/python3.7/dist-packages (from yfinance) (0.0.9)\n",
            "Collecting lxml>=4.5.1\n",
            "  Downloading lxml-4.6.3-cp37-cp37m-manylinux2014_x86_64.whl (6.3 MB)\n",
            "\u001b[K     |████████████████████████████████| 6.3 MB 9.8 MB/s \n",
            "\u001b[?25hRequirement already satisfied: pytz>=2017.2 in /usr/local/lib/python3.7/dist-packages (from pandas>=0.24->yfinance) (2018.9)\n",
            "Requirement already satisfied: python-dateutil>=2.7.3 in /usr/local/lib/python3.7/dist-packages (from pandas>=0.24->yfinance) (2.8.2)\n",
            "Requirement already satisfied: six>=1.5 in /usr/local/lib/python3.7/dist-packages (from python-dateutil>=2.7.3->pandas>=0.24->yfinance) (1.15.0)\n",
            "Requirement already satisfied: idna<3,>=2.5 in /usr/local/lib/python3.7/dist-packages (from requests>=2.20->yfinance) (2.10)\n",
            "Requirement already satisfied: certifi>=2017.4.17 in /usr/local/lib/python3.7/dist-packages (from requests>=2.20->yfinance) (2021.5.30)\n",
            "Requirement already satisfied: chardet<4,>=3.0.2 in /usr/local/lib/python3.7/dist-packages (from requests>=2.20->yfinance) (3.0.4)\n",
            "Requirement already satisfied: urllib3!=1.25.0,!=1.25.1,<1.26,>=1.21.1 in /usr/local/lib/python3.7/dist-packages (from requests>=2.20->yfinance) (1.24.3)\n",
            "Building wheels for collected packages: yfinance\n",
            "  Building wheel for yfinance (setup.py) ... \u001b[?25l\u001b[?25hdone\n",
            "  Created wheel for yfinance: filename=yfinance-0.1.63-py2.py3-none-any.whl size=23918 sha256=15337ecc15d22e3e598ef5b3fc5a294e4c80900c5a8ec062cefa6d559786b37f\n",
            "  Stored in directory: /root/.cache/pip/wheels/fe/87/8b/7ec24486e001d3926537f5f7801f57a74d181be25b11157983\n",
            "Successfully built yfinance\n",
            "Installing collected packages: lxml, yfinance\n",
            "  Attempting uninstall: lxml\n",
            "    Found existing installation: lxml 4.2.6\n",
            "    Uninstalling lxml-4.2.6:\n",
            "      Successfully uninstalled lxml-4.2.6\n",
            "Successfully installed lxml-4.6.3 yfinance-0.1.63\n"
          ]
        }
      ]
    },
    {
      "cell_type": "code",
      "metadata": {
        "id": "RnPRTMwFc5I6"
      },
      "source": [
        "import numpy as np \n",
        "import pandas as pd\n",
        "from pandas import DataFrame\n",
        "from pandas import Series\n",
        "import matplotlib.pyplot as plt\n",
        "import plotly.graph_objects as go\n",
        "import yfinance as yf\n",
        "import seaborn as sns\n",
        "from sklearn import metrics\n",
        "from sklearn.metrics import mean_squared_error\n",
        "import matplotlib \n",
        "from matplotlib import pyplot\n",
        "from pandas.plotting import lag_plot\n",
        "from sklearn.model_selection import TimeSeriesSplit\n",
        "from sklearn.model_selection import train_test_split\n",
        "from pandas import concat\n",
        "from scipy.stats.distributions import chi2 "
      ],
      "execution_count": null,
      "outputs": []
    },
    {
      "cell_type": "code",
      "metadata": {
        "colab": {
          "base_uri": "https://localhost:8080/",
          "height": 464
        },
        "id": "SHg90Ye5dApJ",
        "outputId": "8829bd6f-722e-4662-f22e-bbbe1cfa7b8e"
      },
      "source": [
        "data = yf.download('BTC-USD','2015-1-1','2021-9-12')\n",
        "data"
      ],
      "execution_count": null,
      "outputs": [
        {
          "output_type": "stream",
          "name": "stdout",
          "text": [
            "\r[*********************100%***********************]  1 of 1 completed\n"
          ]
        },
        {
          "output_type": "execute_result",
          "data": {
            "text/html": [
              "<div>\n",
              "<style scoped>\n",
              "    .dataframe tbody tr th:only-of-type {\n",
              "        vertical-align: middle;\n",
              "    }\n",
              "\n",
              "    .dataframe tbody tr th {\n",
              "        vertical-align: top;\n",
              "    }\n",
              "\n",
              "    .dataframe thead th {\n",
              "        text-align: right;\n",
              "    }\n",
              "</style>\n",
              "<table border=\"1\" class=\"dataframe\">\n",
              "  <thead>\n",
              "    <tr style=\"text-align: right;\">\n",
              "      <th></th>\n",
              "      <th>Open</th>\n",
              "      <th>High</th>\n",
              "      <th>Low</th>\n",
              "      <th>Close</th>\n",
              "      <th>Adj Close</th>\n",
              "      <th>Volume</th>\n",
              "    </tr>\n",
              "    <tr>\n",
              "      <th>Date</th>\n",
              "      <th></th>\n",
              "      <th></th>\n",
              "      <th></th>\n",
              "      <th></th>\n",
              "      <th></th>\n",
              "      <th></th>\n",
              "    </tr>\n",
              "  </thead>\n",
              "  <tbody>\n",
              "    <tr>\n",
              "      <th>2015-01-01</th>\n",
              "      <td>320.434998</td>\n",
              "      <td>320.434998</td>\n",
              "      <td>314.002991</td>\n",
              "      <td>314.248993</td>\n",
              "      <td>314.248993</td>\n",
              "      <td>8036550</td>\n",
              "    </tr>\n",
              "    <tr>\n",
              "      <th>2015-01-02</th>\n",
              "      <td>314.079010</td>\n",
              "      <td>315.838989</td>\n",
              "      <td>313.565002</td>\n",
              "      <td>315.032013</td>\n",
              "      <td>315.032013</td>\n",
              "      <td>7860650</td>\n",
              "    </tr>\n",
              "    <tr>\n",
              "      <th>2015-01-03</th>\n",
              "      <td>314.846008</td>\n",
              "      <td>315.149994</td>\n",
              "      <td>281.082001</td>\n",
              "      <td>281.082001</td>\n",
              "      <td>281.082001</td>\n",
              "      <td>33054400</td>\n",
              "    </tr>\n",
              "    <tr>\n",
              "      <th>2015-01-04</th>\n",
              "      <td>281.145996</td>\n",
              "      <td>287.230011</td>\n",
              "      <td>257.612000</td>\n",
              "      <td>264.195007</td>\n",
              "      <td>264.195007</td>\n",
              "      <td>55629100</td>\n",
              "    </tr>\n",
              "    <tr>\n",
              "      <th>2015-01-05</th>\n",
              "      <td>265.084015</td>\n",
              "      <td>278.341003</td>\n",
              "      <td>265.084015</td>\n",
              "      <td>274.473999</td>\n",
              "      <td>274.473999</td>\n",
              "      <td>43962800</td>\n",
              "    </tr>\n",
              "    <tr>\n",
              "      <th>...</th>\n",
              "      <td>...</td>\n",
              "      <td>...</td>\n",
              "      <td>...</td>\n",
              "      <td>...</td>\n",
              "      <td>...</td>\n",
              "      <td>...</td>\n",
              "    </tr>\n",
              "    <tr>\n",
              "      <th>2021-09-07</th>\n",
              "      <td>52660.480469</td>\n",
              "      <td>52853.765625</td>\n",
              "      <td>43285.207031</td>\n",
              "      <td>46811.128906</td>\n",
              "      <td>46811.128906</td>\n",
              "      <td>65210059683</td>\n",
              "    </tr>\n",
              "    <tr>\n",
              "      <th>2021-09-08</th>\n",
              "      <td>46827.761719</td>\n",
              "      <td>47334.054688</td>\n",
              "      <td>44561.394531</td>\n",
              "      <td>46091.390625</td>\n",
              "      <td>46091.390625</td>\n",
              "      <td>49007762488</td>\n",
              "    </tr>\n",
              "    <tr>\n",
              "      <th>2021-09-09</th>\n",
              "      <td>45774.742188</td>\n",
              "      <td>47261.949219</td>\n",
              "      <td>45669.738281</td>\n",
              "      <td>46391.421875</td>\n",
              "      <td>46391.421875</td>\n",
              "      <td>38672657013</td>\n",
              "    </tr>\n",
              "    <tr>\n",
              "      <th>2021-09-10</th>\n",
              "      <td>46396.664062</td>\n",
              "      <td>47031.742188</td>\n",
              "      <td>44344.484375</td>\n",
              "      <td>44883.910156</td>\n",
              "      <td>44883.910156</td>\n",
              "      <td>39154666597</td>\n",
              "    </tr>\n",
              "    <tr>\n",
              "      <th>2021-09-11</th>\n",
              "      <td>44869.816406</td>\n",
              "      <td>45922.839844</td>\n",
              "      <td>44855.558594</td>\n",
              "      <td>45365.398438</td>\n",
              "      <td>45365.398438</td>\n",
              "      <td>35229417472</td>\n",
              "    </tr>\n",
              "  </tbody>\n",
              "</table>\n",
              "<p>2442 rows × 6 columns</p>\n",
              "</div>"
            ],
            "text/plain": [
              "                    Open          High  ...     Adj Close       Volume\n",
              "Date                                    ...                           \n",
              "2015-01-01    320.434998    320.434998  ...    314.248993      8036550\n",
              "2015-01-02    314.079010    315.838989  ...    315.032013      7860650\n",
              "2015-01-03    314.846008    315.149994  ...    281.082001     33054400\n",
              "2015-01-04    281.145996    287.230011  ...    264.195007     55629100\n",
              "2015-01-05    265.084015    278.341003  ...    274.473999     43962800\n",
              "...                  ...           ...  ...           ...          ...\n",
              "2021-09-07  52660.480469  52853.765625  ...  46811.128906  65210059683\n",
              "2021-09-08  46827.761719  47334.054688  ...  46091.390625  49007762488\n",
              "2021-09-09  45774.742188  47261.949219  ...  46391.421875  38672657013\n",
              "2021-09-10  46396.664062  47031.742188  ...  44883.910156  39154666597\n",
              "2021-09-11  44869.816406  45922.839844  ...  45365.398438  35229417472\n",
              "\n",
              "[2442 rows x 6 columns]"
            ]
          },
          "metadata": {},
          "execution_count": 3
        }
      ]
    },
    {
      "cell_type": "markdown",
      "metadata": {
        "id": "gLezCyagdMS8"
      },
      "source": [
        "## Preprosses the data set "
      ]
    },
    {
      "cell_type": "code",
      "metadata": {
        "colab": {
          "base_uri": "https://localhost:8080/"
        },
        "id": "jigiBoTbdEhu",
        "outputId": "d5a1555b-637f-4391-dce7-f05ec8a1228f"
      },
      "source": [
        "for col in data.columns:\n",
        "    print(col)"
      ],
      "execution_count": null,
      "outputs": [
        {
          "output_type": "stream",
          "name": "stdout",
          "text": [
            "Open\n",
            "High\n",
            "Low\n",
            "Close\n",
            "Adj Close\n",
            "Volume\n"
          ]
        }
      ]
    },
    {
      "cell_type": "code",
      "metadata": {
        "colab": {
          "base_uri": "https://localhost:8080/",
          "height": 447
        },
        "id": "AF1a7Wm7dIQh",
        "outputId": "5c997681-0a81-45b8-d8a1-69e90acc5e7f"
      },
      "source": [
        "cols = ['Open','High','Low','Adj Close','Volume']\n",
        "new_data = data.drop(cols, axis=1)\n",
        "new_data"
      ],
      "execution_count": null,
      "outputs": [
        {
          "output_type": "execute_result",
          "data": {
            "text/html": [
              "<div>\n",
              "<style scoped>\n",
              "    .dataframe tbody tr th:only-of-type {\n",
              "        vertical-align: middle;\n",
              "    }\n",
              "\n",
              "    .dataframe tbody tr th {\n",
              "        vertical-align: top;\n",
              "    }\n",
              "\n",
              "    .dataframe thead th {\n",
              "        text-align: right;\n",
              "    }\n",
              "</style>\n",
              "<table border=\"1\" class=\"dataframe\">\n",
              "  <thead>\n",
              "    <tr style=\"text-align: right;\">\n",
              "      <th></th>\n",
              "      <th>Close</th>\n",
              "    </tr>\n",
              "    <tr>\n",
              "      <th>Date</th>\n",
              "      <th></th>\n",
              "    </tr>\n",
              "  </thead>\n",
              "  <tbody>\n",
              "    <tr>\n",
              "      <th>2015-01-01</th>\n",
              "      <td>314.248993</td>\n",
              "    </tr>\n",
              "    <tr>\n",
              "      <th>2015-01-02</th>\n",
              "      <td>315.032013</td>\n",
              "    </tr>\n",
              "    <tr>\n",
              "      <th>2015-01-03</th>\n",
              "      <td>281.082001</td>\n",
              "    </tr>\n",
              "    <tr>\n",
              "      <th>2015-01-04</th>\n",
              "      <td>264.195007</td>\n",
              "    </tr>\n",
              "    <tr>\n",
              "      <th>2015-01-05</th>\n",
              "      <td>274.473999</td>\n",
              "    </tr>\n",
              "    <tr>\n",
              "      <th>...</th>\n",
              "      <td>...</td>\n",
              "    </tr>\n",
              "    <tr>\n",
              "      <th>2021-09-07</th>\n",
              "      <td>46811.128906</td>\n",
              "    </tr>\n",
              "    <tr>\n",
              "      <th>2021-09-08</th>\n",
              "      <td>46091.390625</td>\n",
              "    </tr>\n",
              "    <tr>\n",
              "      <th>2021-09-09</th>\n",
              "      <td>46391.421875</td>\n",
              "    </tr>\n",
              "    <tr>\n",
              "      <th>2021-09-10</th>\n",
              "      <td>44883.910156</td>\n",
              "    </tr>\n",
              "    <tr>\n",
              "      <th>2021-09-11</th>\n",
              "      <td>45365.398438</td>\n",
              "    </tr>\n",
              "  </tbody>\n",
              "</table>\n",
              "<p>2442 rows × 1 columns</p>\n",
              "</div>"
            ],
            "text/plain": [
              "                   Close\n",
              "Date                    \n",
              "2015-01-01    314.248993\n",
              "2015-01-02    315.032013\n",
              "2015-01-03    281.082001\n",
              "2015-01-04    264.195007\n",
              "2015-01-05    274.473999\n",
              "...                  ...\n",
              "2021-09-07  46811.128906\n",
              "2021-09-08  46091.390625\n",
              "2021-09-09  46391.421875\n",
              "2021-09-10  44883.910156\n",
              "2021-09-11  45365.398438\n",
              "\n",
              "[2442 rows x 1 columns]"
            ]
          },
          "metadata": {},
          "execution_count": 5
        }
      ]
    },
    {
      "cell_type": "code",
      "metadata": {
        "colab": {
          "base_uri": "https://localhost:8080/",
          "height": 417
        },
        "id": "EgX-c660dTTR",
        "outputId": "a79e4974-f2a6-4eb3-d636-a6823cc5197f"
      },
      "source": [
        "new_data = new_data.groupby('Date')['Close'].sum().reset_index()\n",
        "new_data"
      ],
      "execution_count": null,
      "outputs": [
        {
          "output_type": "execute_result",
          "data": {
            "text/html": [
              "<div>\n",
              "<style scoped>\n",
              "    .dataframe tbody tr th:only-of-type {\n",
              "        vertical-align: middle;\n",
              "    }\n",
              "\n",
              "    .dataframe tbody tr th {\n",
              "        vertical-align: top;\n",
              "    }\n",
              "\n",
              "    .dataframe thead th {\n",
              "        text-align: right;\n",
              "    }\n",
              "</style>\n",
              "<table border=\"1\" class=\"dataframe\">\n",
              "  <thead>\n",
              "    <tr style=\"text-align: right;\">\n",
              "      <th></th>\n",
              "      <th>Date</th>\n",
              "      <th>Close</th>\n",
              "    </tr>\n",
              "  </thead>\n",
              "  <tbody>\n",
              "    <tr>\n",
              "      <th>0</th>\n",
              "      <td>2015-01-01</td>\n",
              "      <td>314.248993</td>\n",
              "    </tr>\n",
              "    <tr>\n",
              "      <th>1</th>\n",
              "      <td>2015-01-02</td>\n",
              "      <td>315.032013</td>\n",
              "    </tr>\n",
              "    <tr>\n",
              "      <th>2</th>\n",
              "      <td>2015-01-03</td>\n",
              "      <td>281.082001</td>\n",
              "    </tr>\n",
              "    <tr>\n",
              "      <th>3</th>\n",
              "      <td>2015-01-04</td>\n",
              "      <td>264.195007</td>\n",
              "    </tr>\n",
              "    <tr>\n",
              "      <th>4</th>\n",
              "      <td>2015-01-05</td>\n",
              "      <td>274.473999</td>\n",
              "    </tr>\n",
              "    <tr>\n",
              "      <th>...</th>\n",
              "      <td>...</td>\n",
              "      <td>...</td>\n",
              "    </tr>\n",
              "    <tr>\n",
              "      <th>2437</th>\n",
              "      <td>2021-09-07</td>\n",
              "      <td>46811.128906</td>\n",
              "    </tr>\n",
              "    <tr>\n",
              "      <th>2438</th>\n",
              "      <td>2021-09-08</td>\n",
              "      <td>46091.390625</td>\n",
              "    </tr>\n",
              "    <tr>\n",
              "      <th>2439</th>\n",
              "      <td>2021-09-09</td>\n",
              "      <td>46391.421875</td>\n",
              "    </tr>\n",
              "    <tr>\n",
              "      <th>2440</th>\n",
              "      <td>2021-09-10</td>\n",
              "      <td>44883.910156</td>\n",
              "    </tr>\n",
              "    <tr>\n",
              "      <th>2441</th>\n",
              "      <td>2021-09-11</td>\n",
              "      <td>45365.398438</td>\n",
              "    </tr>\n",
              "  </tbody>\n",
              "</table>\n",
              "<p>2442 rows × 2 columns</p>\n",
              "</div>"
            ],
            "text/plain": [
              "           Date         Close\n",
              "0    2015-01-01    314.248993\n",
              "1    2015-01-02    315.032013\n",
              "2    2015-01-03    281.082001\n",
              "3    2015-01-04    264.195007\n",
              "4    2015-01-05    274.473999\n",
              "...         ...           ...\n",
              "2437 2021-09-07  46811.128906\n",
              "2438 2021-09-08  46091.390625\n",
              "2439 2021-09-09  46391.421875\n",
              "2440 2021-09-10  44883.910156\n",
              "2441 2021-09-11  45365.398438\n",
              "\n",
              "[2442 rows x 2 columns]"
            ]
          },
          "metadata": {},
          "execution_count": 6
        }
      ]
    },
    {
      "cell_type": "code",
      "metadata": {
        "id": "HEVcfAu7djsd"
      },
      "source": [
        "new_data['Date'] = pd.to_datetime(new_data['Date'], infer_datetime_format=True)"
      ],
      "execution_count": null,
      "outputs": []
    },
    {
      "cell_type": "code",
      "metadata": {
        "colab": {
          "base_uri": "https://localhost:8080/"
        },
        "id": "b7t5-kZUd-pL",
        "outputId": "abb30a04-bb9c-41c2-807d-cc897e7fd367"
      },
      "source": [
        "df = new_data.set_index(['Date'])\n",
        "type(df)"
      ],
      "execution_count": null,
      "outputs": [
        {
          "output_type": "execute_result",
          "data": {
            "text/plain": [
              "pandas.core.frame.DataFrame"
            ]
          },
          "metadata": {},
          "execution_count": 8
        }
      ]
    },
    {
      "cell_type": "code",
      "metadata": {
        "id": "oh6hPTeod_6D"
      },
      "source": [
        "new_df = df['Close'].resample('D').mean()"
      ],
      "execution_count": null,
      "outputs": []
    },
    {
      "cell_type": "code",
      "metadata": {
        "colab": {
          "base_uri": "https://localhost:8080/"
        },
        "id": "kT-BdbxCeeP1",
        "outputId": "a72f8b7b-c740-4a0f-def2-889bc5c29a7a"
      },
      "source": [
        "type(new_df)"
      ],
      "execution_count": null,
      "outputs": [
        {
          "output_type": "execute_result",
          "data": {
            "text/plain": [
              "pandas.core.series.Series"
            ]
          },
          "metadata": {},
          "execution_count": 10
        }
      ]
    },
    {
      "cell_type": "markdown",
      "metadata": {
        "id": "RLacI3O8eraG"
      },
      "source": [
        "## Data Vizualization "
      ]
    },
    {
      "cell_type": "code",
      "metadata": {
        "colab": {
          "base_uri": "https://localhost:8080/"
        },
        "id": "wnzYNjfXgCyD",
        "outputId": "25b14d59-4444-44e4-9754-ad3af86448dd"
      },
      "source": [
        "new_df.describe()"
      ],
      "execution_count": null,
      "outputs": [
        {
          "output_type": "execute_result",
          "data": {
            "text/plain": [
              "count     2442.000000\n",
              "mean      9248.926875\n",
              "std      13237.388243\n",
              "min        178.102997\n",
              "25%        639.367249\n",
              "50%       6112.099854\n",
              "75%       9696.575684\n",
              "max      63503.457031\n",
              "Name: Close, dtype: float64"
            ]
          },
          "metadata": {},
          "execution_count": 11
        }
      ]
    },
    {
      "cell_type": "code",
      "metadata": {
        "colab": {
          "base_uri": "https://localhost:8080/",
          "height": 296
        },
        "id": "LdMhXAwqef6d",
        "outputId": "a37ee5ba-0555-40ab-dde7-2ce039644175"
      },
      "source": [
        "new_df.plot()"
      ],
      "execution_count": null,
      "outputs": [
        {
          "output_type": "execute_result",
          "data": {
            "text/plain": [
              "<matplotlib.axes._subplots.AxesSubplot at 0x7f49fc9c5f50>"
            ]
          },
          "metadata": {},
          "execution_count": 12
        },
        {
          "output_type": "display_data",
          "data": {
            "image/png": "[encoded data removed]",
            "text/plain": [
              "<Figure size 432x288 with 1 Axes>"
            ]
          },
          "metadata": {
            "needs_background": "light"
          }
        }
      ]
    },
    {
      "cell_type": "code",
      "metadata": {
        "colab": {
          "base_uri": "https://localhost:8080/",
          "height": 279
        },
        "id": "cP8TfRkBfFI6",
        "outputId": "fef4253d-60eb-42d0-b4f5-9717cab69eac"
      },
      "source": [
        "lag_plot(new_df)\n",
        "pyplot.show()"
      ],
      "execution_count": null,
      "outputs": [
        {
          "output_type": "display_data",
          "data": {
            "image/png": "[encoded data removed]",
            "text/plain": [
              "<Figure size 432x288 with 1 Axes>"
            ]
          },
          "metadata": {
            "needs_background": "light"
          }
        }
      ]
    },
    {
      "cell_type": "code",
      "metadata": {
        "colab": {
          "base_uri": "https://localhost:8080/"
        },
        "id": "fIpWHTS1fOTY",
        "outputId": "88dbe76c-9bdc-472c-ad42-3bf06eae8f13"
      },
      "source": [
        "values = DataFrame(new_df.values)\n",
        "print(values)"
      ],
      "execution_count": null,
      "outputs": [
        {
          "output_type": "stream",
          "name": "stdout",
          "text": [
            "                 0\n",
            "0       314.248993\n",
            "1       315.032013\n",
            "2       281.082001\n",
            "3       264.195007\n",
            "4       274.473999\n",
            "...            ...\n",
            "2441  46811.128906\n",
            "2442  46091.390625\n",
            "2443  46391.421875\n",
            "2444  44883.910156\n",
            "2445  45365.398438\n",
            "\n",
            "[2446 rows x 1 columns]\n"
          ]
        }
      ]
    },
    {
      "cell_type": "code",
      "metadata": {
        "colab": {
          "base_uri": "https://localhost:8080/"
        },
        "id": "4c4me3zOgd5l",
        "outputId": "fbf015cd-6bab-441b-ecbe-0d8ed444d281"
      },
      "source": [
        "p = 1\n",
        "dataframe = concat([values.shift(p), values], axis=1)\n",
        "print(dataframe)"
      ],
      "execution_count": null,
      "outputs": [
        {
          "output_type": "stream",
          "name": "stdout",
          "text": [
            "                 0             0\n",
            "0              NaN    314.248993\n",
            "1       314.248993    315.032013\n",
            "2       315.032013    281.082001\n",
            "3       281.082001    264.195007\n",
            "4       264.195007    274.473999\n",
            "...            ...           ...\n",
            "2441  52633.535156  46811.128906\n",
            "2442  46811.128906  46091.390625\n",
            "2443  46091.390625  46391.421875\n",
            "2444  46391.421875  44883.910156\n",
            "2445  44883.910156  45365.398438\n",
            "\n",
            "[2446 rows x 2 columns]\n"
          ]
        }
      ]
    },
    {
      "cell_type": "code",
      "metadata": {
        "colab": {
          "base_uri": "https://localhost:8080/"
        },
        "id": "AF6KuJCJgxjD",
        "outputId": "1e28ba3f-e1e9-46ad-f7b4-70dc09711d04"
      },
      "source": [
        "dataframe.columns = ['t-'+str(p), 't+'+str(p)]\n",
        "print(dataframe)"
      ],
      "execution_count": null,
      "outputs": [
        {
          "output_type": "stream",
          "name": "stdout",
          "text": [
            "               t-1           t+1\n",
            "0              NaN    314.248993\n",
            "1       314.248993    315.032013\n",
            "2       315.032013    281.082001\n",
            "3       281.082001    264.195007\n",
            "4       264.195007    274.473999\n",
            "...            ...           ...\n",
            "2441  52633.535156  46811.128906\n",
            "2442  46811.128906  46091.390625\n",
            "2443  46091.390625  46391.421875\n",
            "2444  46391.421875  44883.910156\n",
            "2445  44883.910156  45365.398438\n",
            "\n",
            "[2446 rows x 2 columns]\n"
          ]
        }
      ]
    },
    {
      "cell_type": "code",
      "metadata": {
        "colab": {
          "base_uri": "https://localhost:8080/"
        },
        "id": "wXEo5FZ7hRZd",
        "outputId": "ac4722e0-b11a-4fb3-bd11-1c0c738439dc"
      },
      "source": [
        "result = dataframe.corr()\n",
        "print(result)"
      ],
      "execution_count": null,
      "outputs": [
        {
          "output_type": "stream",
          "name": "stdout",
          "text": [
            "          t-1       t+1\n",
            "t-1  1.000000  0.998628\n",
            "t+1  0.998628  1.000000\n"
          ]
        }
      ]
    },
    {
      "cell_type": "markdown",
      "metadata": {
        "id": "3yR0zlzOhh0m"
      },
      "source": [
        "## AR model Predection"
      ]
    },
    {
      "cell_type": "code",
      "metadata": {
        "colab": {
          "base_uri": "https://localhost:8080/",
          "height": 447
        },
        "id": "W0KSuzVciEK8",
        "outputId": "9dd2858b-2f4a-43ca-e1ff-0967b52698f2"
      },
      "source": [
        "new_data['Date'] = pd.to_datetime(new_data['Date'], infer_datetime_format=True)\n",
        "df_ar = new_data.set_index(['Date'])\n",
        "df_ar"
      ],
      "execution_count": null,
      "outputs": [
        {
          "output_type": "execute_result",
          "data": {
            "text/html": [
              "<div>\n",
              "<style scoped>\n",
              "    .dataframe tbody tr th:only-of-type {\n",
              "        vertical-align: middle;\n",
              "    }\n",
              "\n",
              "    .dataframe tbody tr th {\n",
              "        vertical-align: top;\n",
              "    }\n",
              "\n",
              "    .dataframe thead th {\n",
              "        text-align: right;\n",
              "    }\n",
              "</style>\n",
              "<table border=\"1\" class=\"dataframe\">\n",
              "  <thead>\n",
              "    <tr style=\"text-align: right;\">\n",
              "      <th></th>\n",
              "      <th>Close</th>\n",
              "    </tr>\n",
              "    <tr>\n",
              "      <th>Date</th>\n",
              "      <th></th>\n",
              "    </tr>\n",
              "  </thead>\n",
              "  <tbody>\n",
              "    <tr>\n",
              "      <th>2015-01-01</th>\n",
              "      <td>314.248993</td>\n",
              "    </tr>\n",
              "    <tr>\n",
              "      <th>2015-01-02</th>\n",
              "      <td>315.032013</td>\n",
              "    </tr>\n",
              "    <tr>\n",
              "      <th>2015-01-03</th>\n",
              "      <td>281.082001</td>\n",
              "    </tr>\n",
              "    <tr>\n",
              "      <th>2015-01-04</th>\n",
              "      <td>264.195007</td>\n",
              "    </tr>\n",
              "    <tr>\n",
              "      <th>2015-01-05</th>\n",
              "      <td>274.473999</td>\n",
              "    </tr>\n",
              "    <tr>\n",
              "      <th>...</th>\n",
              "      <td>...</td>\n",
              "    </tr>\n",
              "    <tr>\n",
              "      <th>2021-09-07</th>\n",
              "      <td>46811.128906</td>\n",
              "    </tr>\n",
              "    <tr>\n",
              "      <th>2021-09-08</th>\n",
              "      <td>46091.390625</td>\n",
              "    </tr>\n",
              "    <tr>\n",
              "      <th>2021-09-09</th>\n",
              "      <td>46391.421875</td>\n",
              "    </tr>\n",
              "    <tr>\n",
              "      <th>2021-09-10</th>\n",
              "      <td>44883.910156</td>\n",
              "    </tr>\n",
              "    <tr>\n",
              "      <th>2021-09-11</th>\n",
              "      <td>45365.398438</td>\n",
              "    </tr>\n",
              "  </tbody>\n",
              "</table>\n",
              "<p>2442 rows × 1 columns</p>\n",
              "</div>"
            ],
            "text/plain": [
              "                   Close\n",
              "Date                    \n",
              "2015-01-01    314.248993\n",
              "2015-01-02    315.032013\n",
              "2015-01-03    281.082001\n",
              "2015-01-04    264.195007\n",
              "2015-01-05    274.473999\n",
              "...                  ...\n",
              "2021-09-07  46811.128906\n",
              "2021-09-08  46091.390625\n",
              "2021-09-09  46391.421875\n",
              "2021-09-10  44883.910156\n",
              "2021-09-11  45365.398438\n",
              "\n",
              "[2442 rows x 1 columns]"
            ]
          },
          "metadata": {},
          "execution_count": 18
        }
      ]
    },
    {
      "cell_type": "code",
      "metadata": {
        "colab": {
          "base_uri": "https://localhost:8080/",
          "height": 283
        },
        "id": "aMhlsr5fhZ0g",
        "outputId": "83113844-1f01-49ad-e381-eb2d61fdb861"
      },
      "source": [
        "from pandas.plotting import autocorrelation_plot\n",
        "autocorrelation_plot(df_ar)\n",
        "pyplot.show()"
      ],
      "execution_count": null,
      "outputs": [
        {
          "output_type": "display_data",
          "data": {
            "image/png": "[encoded data removed]",
            "text/plain": [
              "<Figure size 432x288 with 1 Axes>"
            ]
          },
          "metadata": {
            "needs_background": "light"
          }
        }
      ]
    },
    {
      "cell_type": "code",
      "metadata": {
        "colab": {
          "base_uri": "https://localhost:8080/",
          "height": 348
        },
        "id": "8gxuOgrqhpui",
        "outputId": "c2a776ad-184b-46b2-f28a-081333523417"
      },
      "source": [
        "from statsmodels.graphics.tsaplots import plot_acf\n",
        "plot_acf(df_ar, lags=50)\n",
        "pyplot.show()"
      ],
      "execution_count": null,
      "outputs": [
        {
          "output_type": "stream",
          "name": "stderr",
          "text": [
            "/usr/local/lib/python3.7/dist-packages/statsmodels/tools/_testing.py:19: FutureWarning:\n",
            "\n",
            "pandas.util.testing is deprecated. Use the functions in the public API at pandas.testing instead.\n",
            "\n"
          ]
        },
        {
          "output_type": "display_data",
          "data": {
            "image/png": "[encoded data removed]",
            "text/plain": [
              "<Figure size 432x288 with 1 Axes>"
            ]
          },
          "metadata": {
            "needs_background": "light"
          }
        }
      ]
    },
    {
      "cell_type": "markdown",
      "metadata": {
        "id": "D3WxGT2-lNrC"
      },
      "source": [
        "## developed AR model to make predictions."
      ]
    },
    {
      "cell_type": "code",
      "metadata": {
        "id": "zguzjN6Fh8_2"
      },
      "source": [
        "from statsmodels.tsa.ar_model import AR"
      ],
      "execution_count": null,
      "outputs": []
    },
    {
      "cell_type": "code",
      "metadata": {
        "id": "SWLBmgkmlahs"
      },
      "source": [
        "test_length = 480\n",
        "X = df_ar.values\n",
        "train, test = X[1:len(X)-test_length], X[len(X)-test_length:]"
      ],
      "execution_count": null,
      "outputs": []
    },
    {
      "cell_type": "code",
      "metadata": {
        "colab": {
          "base_uri": "https://localhost:8080/"
        },
        "id": "N0WTfX4ylfj9",
        "outputId": "0a735806-d6e0-4a4d-fe4c-c72938bc0a81"
      },
      "source": [
        "print(train.shape)\n",
        "print(test.shape)"
      ],
      "execution_count": null,
      "outputs": [
        {
          "output_type": "stream",
          "name": "stdout",
          "text": [
            "(1961, 1)\n",
            "(480, 1)\n"
          ]
        }
      ]
    },
    {
      "cell_type": "code",
      "metadata": {
        "colab": {
          "base_uri": "https://localhost:8080/"
        },
        "id": "M4PNKQOAljBC",
        "outputId": "45301de5-fde4-4199-c21b-9b81de7d1fb4"
      },
      "source": [
        "model = AR(train)\n",
        "model_fit = model.fit()\n",
        "coef = model_fit.params\n",
        "window = model_fit.k_ar\n",
        "print('Lag:', window)\n",
        "print('Coefficients:', coef)"
      ],
      "execution_count": null,
      "outputs": [
        {
          "output_type": "stream",
          "name": "stdout",
          "text": [
            "Lag: 25\n",
            "Coefficients: [ 1.62208342e+01  1.02409722e+00 -4.20826375e-02  1.29702213e-02\n",
            "  1.32730056e-03  8.23375185e-02 -1.10371125e-01 -4.33006147e-03\n",
            "  6.78387404e-02 -3.71672190e-02  1.16886733e-01 -1.08154806e-01\n",
            " -2.51984575e-02 -4.16444239e-02  3.68792709e-02  1.15586144e-03\n",
            " -2.06890971e-02  1.02724870e-01 -8.40359302e-02  1.17149233e-01\n",
            " -1.75143199e-02 -1.10295675e-01  5.02755501e-02 -4.55957337e-02\n",
            " -4.03909562e-03  3.46655621e-02]\n"
          ]
        }
      ]
    },
    {
      "cell_type": "code",
      "metadata": {
        "id": "nSt95QOolmTY"
      },
      "source": [
        "history = train[len(train)-window:]\n",
        "history = [history[i] for i in range(len(history))]\n",
        "predictions = list()"
      ],
      "execution_count": null,
      "outputs": []
    },
    {
      "cell_type": "code",
      "metadata": {
        "colab": {
          "base_uri": "https://localhost:8080/"
        },
        "id": "kJrhATgZn3-M",
        "outputId": "fcba6411-463e-4ea8-c390-1914565f097b"
      },
      "source": [
        "for t in range(len(test)):\n",
        "    length = len(history) \n",
        "    lag = [history[i] for i in range(length-window,length)]\n",
        "    yhat = coef[0]\n",
        "    for d in range(window):\n",
        "        yhat += coef[d+1] * lag[window-d-1]\n",
        "    obs = test[t]\n",
        "    predictions.append(yhat)\n",
        "    history.append(obs)\n",
        "    print('predicted=%f, expected=%f' % (yhat, obs))"
      ],
      "execution_count": null,
      "outputs": [
        {
          "output_type": "stream",
          "name": "stdout",
          "text": [
            "predicted=9439.521528, expected=9670.739258\n",
            "predicted=9755.192239, expected=9726.575195\n",
            "predicted=9731.290182, expected=9729.038086\n",
            "predicted=9473.930643, expected=9522.981445\n",
            "predicted=9530.276187, expected=9081.761719\n",
            "predicted=9108.971802, expected=9182.577148\n",
            "predicted=9225.832119, expected=9209.287109\n",
            "predicted=9330.409384, expected=8790.368164\n",
            "predicted=8725.684451, expected=8906.934570\n",
            "predicted=8946.077854, expected=8835.052734\n",
            "predicted=8848.080424, expected=9181.017578\n",
            "predicted=9147.104128, expected=9525.750977\n",
            "predicted=9359.864211, expected=9439.124023\n",
            "predicted=9313.972928, expected=9700.414062\n",
            "predicted=9685.082244, expected=9461.058594\n",
            "predicted=9481.541467, expected=10167.268555\n",
            "predicted=10328.654117, expected=9529.803711\n",
            "predicted=9473.788148, expected=9656.717773\n",
            "predicted=9661.134585, expected=9800.636719\n",
            "predicted=9823.864881, expected=9665.533203\n",
            "predicted=9756.197280, expected=9653.679688\n",
            "predicted=9599.772027, expected=9758.852539\n",
            "predicted=9755.693546, expected=9771.489258\n",
            "predicted=9765.329961, expected=9795.700195\n",
            "predicted=9630.814774, expected=9870.094727\n",
            "predicted=9968.650712, expected=9321.781250\n",
            "predicted=9165.523848, expected=9480.843750\n",
            "predicted=9491.546537, expected=9475.277344\n",
            "predicted=9492.982964, expected=9386.788086\n",
            "predicted=9380.339694, expected=9450.702148\n",
            "predicted=9484.439454, expected=9538.024414\n",
            "predicted=9537.604866, expected=9480.254883\n",
            "predicted=9571.099527, expected=9411.840820\n",
            "predicted=9307.223607, expected=9288.018555\n",
            "predicted=9327.443784, expected=9332.340820\n",
            "predicted=9275.855503, expected=9303.629883\n",
            "predicted=9208.789101, expected=9648.717773\n",
            "predicted=9700.840195, expected=9629.658203\n",
            "predicted=9604.464295, expected=9313.610352\n",
            "predicted=9288.269316, expected=9264.813477\n",
            "predicted=9309.402589, expected=9162.917969\n",
            "predicted=9196.302657, expected=9045.390625\n",
            "predicted=8971.903680, expected=9143.582031\n",
            "predicted=9120.805751, expected=9190.854492\n",
            "predicted=9155.735398, expected=9137.993164\n",
            "predicted=9090.656753, expected=9228.325195\n",
            "predicted=9287.538595, expected=9123.410156\n",
            "predicted=9106.649364, expected=9087.303711\n",
            "predicted=9054.095926, expected=9132.488281\n",
            "predicted=9116.567232, expected=9073.942383\n",
            "predicted=9045.937685, expected=9375.474609\n",
            "predicted=9361.988922, expected=9252.277344\n",
            "predicted=9223.308442, expected=9428.333008\n",
            "predicted=9471.773736, expected=9277.967773\n",
            "predicted=9262.522728, expected=9278.807617\n",
            "predicted=9317.258392, expected=9240.346680\n",
            "predicted=9242.863569, expected=9276.500000\n",
            "predicted=9227.339872, expected=9243.614258\n",
            "predicted=9199.735583, expected=9243.213867\n",
            "predicted=9222.005758, expected=9192.836914\n",
            "predicted=9195.831495, expected=9132.227539\n",
            "predicted=9114.960472, expected=9151.392578\n",
            "predicted=9196.356756, expected=9159.040039\n",
            "predicted=9107.658304, expected=9185.817383\n",
            "predicted=9182.437975, expected=9164.231445\n",
            "predicted=9139.689012, expected=9374.887695\n",
            "predicted=9349.655764, expected=9525.363281\n",
            "predicted=9543.966182, expected=9581.072266\n",
            "predicted=9547.638862, expected=9536.892578\n",
            "predicted=9556.815256, expected=9677.113281\n",
            "predicted=9687.605098, expected=9905.166992\n",
            "predicted=9908.978071, expected=10990.873047\n",
            "predicted=11004.525093, expected=10912.823242\n",
            "predicted=10861.990314, expected=11100.467773\n",
            "predicted=11098.558385, expected=11111.213867\n",
            "predicted=11134.319810, expected=11323.466797\n",
            "predicted=11404.437910, expected=11759.592773\n",
            "predicted=11712.154437, expected=11053.614258\n",
            "predicted=10981.673486, expected=11246.348633\n",
            "predicted=11270.960754, expected=11205.892578\n",
            "predicted=11210.166393, expected=11747.022461\n",
            "predicted=11895.733441, expected=11779.773438\n",
            "predicted=11672.446798, expected=11601.472656\n",
            "predicted=11596.653367, expected=11754.045898\n",
            "predicted=11722.090966, expected=11675.739258\n",
            "predicted=11682.781690, expected=11878.111328\n",
            "predicted=11888.223539, expected=11410.525391\n",
            "predicted=11219.004178, expected=11584.934570\n",
            "predicted=11673.805628, expected=11784.137695\n",
            "predicted=11726.496898, expected=11768.871094\n",
            "predicted=11959.227727, expected=11865.698242\n",
            "predicted=11872.776755, expected=11892.803711\n",
            "predicted=11843.254016, expected=12254.402344\n",
            "predicted=12332.204856, expected=11991.233398\n",
            "predicted=11823.434489, expected=11758.283203\n",
            "predicted=11818.880252, expected=11878.372070\n",
            "predicted=11744.549093, expected=11592.489258\n",
            "predicted=11587.683573, expected=11681.825195\n",
            "predicted=11692.995832, expected=11664.847656\n",
            "predicted=11636.717406, expected=11774.595703\n",
            "predicted=11873.114890, expected=11366.134766\n",
            "predicted=11274.640411, expected=11488.363281\n",
            "predicted=11554.076007, expected=11323.397461\n",
            "predicted=11229.696545, expected=11542.500000\n",
            "predicted=11490.571571, expected=11506.865234\n",
            "predicted=11436.675158, expected=11711.505859\n",
            "predicted=11661.311455, expected=11680.820312\n",
            "predicted=11732.094944, expected=11970.478516\n",
            "predicted=11953.744647, expected=11414.034180\n",
            "predicted=11453.632469, expected=10245.296875\n",
            "predicted=10176.182640, expected=10511.813477\n",
            "predicted=10547.022335, expected=10169.567383\n",
            "predicted=10166.382653, expected=10280.351562\n",
            "predicted=10195.152444, expected=10369.563477\n",
            "predicted=10285.027769, expected=10131.516602\n",
            "predicted=10197.876322, expected=10242.347656\n",
            "predicted=10204.907720, expected=10363.138672\n",
            "predicted=10354.031330, expected=10400.915039\n",
            "predicted=10367.261268, expected=10442.170898\n",
            "predicted=10200.957639, expected=10323.755859\n",
            "predicted=10339.338907, expected=10680.837891\n",
            "predicted=10699.012257, expected=10796.951172\n",
            "predicted=10860.336112, expected=10974.905273\n",
            "predicted=11017.040853, expected=10948.990234\n",
            "predicted=10992.931509, expected=10944.585938\n",
            "predicted=10995.177836, expected=11094.346680\n",
            "predicted=11055.004811, expected=10938.271484\n",
            "predicted=10952.497423, expected=10462.259766\n",
            "predicted=10242.169441, expected=10538.459961\n",
            "predicted=10479.532110, expected=10225.864258\n",
            "predicted=10281.976592, expected=10745.548828\n",
            "predicted=10687.425313, expected=10702.290039\n",
            "predicted=10755.217447, expected=10754.437500\n",
            "predicted=10758.904146, expected=10774.426758\n",
            "predicted=10714.840934, expected=10721.327148\n",
            "predicted=10778.661533, expected=10848.830078\n",
            "predicted=10787.261291, expected=10787.618164\n",
            "predicted=10713.211520, expected=10623.330078\n",
            "predicted=10614.518362, expected=10585.164062\n",
            "predicted=10568.006613, expected=10565.493164\n",
            "predicted=10682.136285, expected=10684.428711\n",
            "predicted=10684.549293, expected=10804.000977\n",
            "predicted=10827.498801, expected=10621.664062\n",
            "predicted=10580.840646, expected=10679.136719\n",
            "predicted=10635.642263, expected=10923.627930\n",
            "predicted=10938.004157, expected=11296.361328\n",
            "predicted=11177.139228, expected=11384.181641\n",
            "predicted=11342.239982, expected=11429.506836\n",
            "predicted=11380.660734, expected=11495.349609\n",
            "predicted=11528.199607, expected=11322.123047\n",
            "predicted=11407.532898, expected=11358.101562\n",
            "predicted=11342.457145, expected=11483.359375\n",
            "predicted=11484.512131, expected=11742.037109\n",
            "predicted=11730.436516, expected=11916.334961\n",
            "predicted=11890.817240, expected=12823.689453\n",
            "predicted=12889.209384, expected=12965.891602\n",
            "predicted=12925.142155, expected=12931.539062\n",
            "predicted=12894.344528, expected=13108.062500\n",
            "predicted=13082.456586, expected=13031.173828\n",
            "predicted=13020.096816, expected=13075.248047\n",
            "predicted=13057.979309, expected=13654.218750\n",
            "predicted=13617.481109, expected=13271.285156\n",
            "predicted=13313.687048, expected=13437.882812\n",
            "predicted=13463.520625, expected=13546.522461\n",
            "predicted=13657.079590, expected=13780.995117\n",
            "predicted=13856.833189, expected=13737.109375\n",
            "predicted=13609.562206, expected=13550.489258\n",
            "predicted=13486.439815, expected=13950.300781\n",
            "predicted=13900.335011, expected=14133.707031\n",
            "predicted=14062.368950, expected=15579.848633\n",
            "predicted=15616.894592, expected=15565.880859\n",
            "predicted=15526.376719, expected=14833.753906\n",
            "predicted=14855.757479, expected=15479.567383\n",
            "predicted=15554.746548, expected=15332.315430\n",
            "predicted=15507.429400, expected=15290.902344\n",
            "predicted=15164.977382, expected=15701.339844\n",
            "predicted=15542.352926, expected=16276.343750\n",
            "predicted=16430.417749, expected=16317.808594\n",
            "predicted=16202.290301, expected=16068.138672\n",
            "predicted=16223.210057, expected=15955.587891\n",
            "predicted=15969.136449, expected=16716.111328\n",
            "predicted=16586.203738, expected=17645.406250\n",
            "predicted=17612.179142, expected=17804.005859\n",
            "predicted=17667.424608, expected=17817.089844\n",
            "predicted=17812.285698, expected=18621.314453\n",
            "predicted=18626.297963, expected=18642.232422\n",
            "predicted=18823.072197, expected=18370.001953\n",
            "predicted=18311.737972, expected=18364.121094\n",
            "predicted=18317.035296, expected=19107.464844\n",
            "predicted=19298.478495, expected=18732.121094\n",
            "predicted=18575.461372, expected=17150.623047\n",
            "predicted=17135.772316, expected=17108.402344\n",
            "predicted=17165.556691, expected=17717.414062\n",
            "predicted=17643.980042, expected=18177.484375\n",
            "predicted=18174.693181, expected=19625.835938\n",
            "predicted=19511.379991, expected=18802.998047\n",
            "predicted=18709.762506, expected=19201.091797\n",
            "predicted=19195.903859, expected=19445.398438\n",
            "predicted=19441.431496, expected=18699.765625\n",
            "predicted=18711.596453, expected=19154.230469\n",
            "predicted=18929.410332, expected=19345.121094\n",
            "predicted=19391.404175, expected=19191.630859\n",
            "predicted=19332.891877, expected=18321.144531\n",
            "predicted=18343.819359, expected=18553.916016\n",
            "predicted=18792.973922, expected=18264.992188\n",
            "predicted=18132.892668, expected=18058.904297\n",
            "predicted=17947.681680, expected=18803.656250\n",
            "predicted=18639.183570, expected=19142.382812\n",
            "predicted=19070.432936, expected=19246.644531\n",
            "predicted=19027.295047, expected=19417.076172\n",
            "predicted=19228.630385, expected=21310.597656\n",
            "predicted=21597.838781, expected=22805.162109\n",
            "predicted=22601.123038, expected=23137.960938\n",
            "predicted=23298.438648, expected=23869.832031\n",
            "predicted=23952.508717, expected=23477.294922\n",
            "predicted=23425.544647, expected=22803.082031\n",
            "predicted=23009.714823, expected=23783.029297\n",
            "predicted=23644.211610, expected=23241.345703\n",
            "predicted=23226.314079, expected=23735.949219\n",
            "predicted=23708.048742, expected=24664.791016\n",
            "predicted=24750.625748, expected=26437.037109\n",
            "predicted=26605.222958, expected=26272.294922\n",
            "predicted=26045.146266, expected=27084.808594\n",
            "predicted=27013.751523, expected=27362.437500\n",
            "predicted=27157.742896, expected=28840.953125\n",
            "predicted=28787.344634, expected=29001.720703\n",
            "predicted=28907.811688, expected=29374.152344\n",
            "predicted=29360.548487, expected=32127.267578\n",
            "predicted=32318.506963, expected=32782.023438\n",
            "predicted=32966.031946, expected=31971.914062\n",
            "predicted=32365.397420, expected=33992.429688\n",
            "predicted=33946.563243, expected=36824.363281\n",
            "predicted=37031.269635, expected=39371.042969\n",
            "predicted=39224.158316, expected=40797.609375\n",
            "predicted=40327.141280, expected=40254.546875\n",
            "predicted=40315.879466, expected=38356.441406\n",
            "predicted=38387.927185, expected=35566.656250\n",
            "predicted=35701.136600, expected=33922.960938\n",
            "predicted=34002.923340, expected=37316.359375\n",
            "predicted=37315.196357, expected=39187.328125\n",
            "predicted=39034.066777, expected=36825.367188\n",
            "predicted=36858.276799, expected=36178.140625\n",
            "predicted=36363.089430, expected=35791.277344\n",
            "predicted=36007.817205, expected=36630.074219\n",
            "predicted=36486.897857, expected=36069.804688\n",
            "predicted=35019.518007, expected=35547.750000\n",
            "predicted=35110.999481, expected=30825.699219\n",
            "predicted=30749.354726, expected=33005.761719\n",
            "predicted=33436.772118, expected=32067.642578\n",
            "predicted=32512.678575, expected=32289.378906\n",
            "predicted=32454.649995, expected=32366.392578\n",
            "predicted=32005.637249, expected=32569.849609\n",
            "predicted=32925.626466, expected=30432.546875\n",
            "predicted=30358.690208, expected=31649.605469\n",
            "predicted=30892.594722, expected=34316.386719\n",
            "predicted=34050.782429, expected=34269.523438\n",
            "predicted=33251.913632, expected=33114.359375\n",
            "predicted=33150.143093, expected=33537.175781\n",
            "predicted=34221.481868, expected=35510.289062\n",
            "predicted=35910.892206, expected=37472.089844\n",
            "predicted=37208.461619, expected=36926.066406\n",
            "predicted=36735.818120, expected=38144.308594\n",
            "predicted=38010.402228, expected=39266.011719\n",
            "predicted=39155.339205, expected=38903.441406\n",
            "predicted=39426.541562, expected=46196.464844\n",
            "predicted=45714.488549, expected=46481.105469\n",
            "predicted=46048.066018, expected=44918.183594\n",
            "predicted=44996.833679, expected=47909.332031\n",
            "predicted=47864.375418, expected=47504.851562\n",
            "predicted=48252.052805, expected=47105.515625\n",
            "predicted=46863.634405, expected=48717.289062\n",
            "predicted=48147.533373, expected=47945.058594\n",
            "predicted=48239.272460, expected=49199.871094\n",
            "predicted=49248.403116, expected=52149.007812\n",
            "predicted=52688.830658, expected=51679.796875\n",
            "predicted=51648.628497, expected=55888.132812\n",
            "predicted=55516.518041, expected=56099.519531\n",
            "predicted=55820.985496, expected=57539.945312\n",
            "predicted=57770.260789, expected=54207.320312\n",
            "predicted=53699.854471, expected=48824.425781\n",
            "predicted=48642.174958, expected=49705.332031\n",
            "predicted=50219.696857, expected=47093.851562\n",
            "predicted=46706.326680, expected=46339.761719\n",
            "predicted=46700.286149, expected=46188.453125\n",
            "predicted=46470.015214, expected=45137.769531\n",
            "predicted=45177.188272, expected=49631.242188\n",
            "predicted=49482.488662, expected=48378.988281\n",
            "predicted=48157.213904, expected=50538.242188\n",
            "predicted=49336.261834, expected=48561.167969\n",
            "predicted=47621.280298, expected=48927.304688\n",
            "predicted=49352.112986, expected=48912.382812\n",
            "predicted=48180.930756, expected=51206.691406\n",
            "predicted=52119.807610, expected=52246.523438\n",
            "predicted=52195.779432, expected=54824.117188\n",
            "predicted=55309.127579, expected=56008.550781\n",
            "predicted=56969.730291, expected=57805.121094\n",
            "predicted=57358.603146, expected=57332.089844\n",
            "predicted=57482.505980, expected=61243.085938\n",
            "predicted=59811.390539, expected=59302.316406\n",
            "predicted=58778.802981, expected=55907.199219\n",
            "predicted=55556.232589, expected=56804.902344\n",
            "predicted=56468.279861, expected=58870.894531\n",
            "predicted=59851.211089, expected=57858.921875\n",
            "predicted=57512.908963, expected=58346.652344\n",
            "predicted=58460.064729, expected=58313.644531\n",
            "predicted=58759.748164, expected=57523.421875\n",
            "predicted=57269.712034, expected=54529.144531\n",
            "predicted=54310.508673, expected=54738.945312\n",
            "predicted=54090.934373, expected=52774.265625\n",
            "predicted=52068.320909, expected=51704.160156\n",
            "predicted=51532.200198, expected=55137.312500\n",
            "predicted=55441.478891, expected=55973.511719\n",
            "predicted=56368.552011, expected=55950.746094\n",
            "predicted=55822.831454, expected=57750.199219\n",
            "predicted=57895.617680, expected=58917.691406\n",
            "predicted=58966.520487, expected=58918.832031\n",
            "predicted=58257.827593, expected=59095.808594\n",
            "predicted=58887.472898, expected=59384.312500\n",
            "predicted=58793.631733, expected=57603.890625\n",
            "predicted=57307.865672, expected=58758.554688\n",
            "predicted=59371.425762, expected=59057.878906\n",
            "predicted=59182.286343, expected=58192.359375\n",
            "predicted=58279.094174, expected=56048.937500\n",
            "predicted=55773.416496, expected=58323.953125\n",
            "predicted=58419.528329, expected=58245.003906\n",
            "predicted=57558.998623, expected=59793.234375\n",
            "predicted=59050.185532, expected=60204.964844\n",
            "predicted=59949.644817, expected=59893.453125\n",
            "predicted=59425.924990, expected=63503.457031\n",
            "predicted=63816.458144, expected=63109.695312\n",
            "predicted=63415.204990, expected=63314.011719\n",
            "predicted=63210.987665, expected=61572.789062\n",
            "predicted=61227.224853, expected=60683.820312\n",
            "predicted=61319.249102, expected=56216.183594\n",
            "predicted=55889.652743, expected=55724.265625\n",
            "predicted=55626.190006, expected=56473.031250\n",
            "predicted=56453.053253, expected=53906.089844\n",
            "predicted=53359.647042, expected=51762.273438\n",
            "predicted=51559.491777, expected=51093.652344\n",
            "predicted=50938.250761, expected=50050.867188\n",
            "predicted=50090.536207, expected=49004.253906\n",
            "predicted=47756.032256, expected=54021.753906\n",
            "predicted=53925.015800, expected=55033.117188\n",
            "predicted=54577.758602, expected=54824.703125\n",
            "predicted=54469.457110, expected=53555.109375\n",
            "predicted=54066.914354, expected=57750.175781\n",
            "predicted=58073.684455, expected=57828.050781\n",
            "predicted=57782.152855, expected=56631.078125\n",
            "predicted=56363.585308, expected=57200.292969\n",
            "predicted=57171.904189, expected=53333.539062\n",
            "predicted=53253.451630, expected=57424.007812\n",
            "predicted=57824.312049, expected=56396.515625\n",
            "predicted=55823.487481, expected=57356.402344\n",
            "predicted=57018.548360, expected=58803.777344\n",
            "predicted=58144.397974, expected=58232.316406\n",
            "predicted=58664.497292, expected=55859.796875\n",
            "predicted=55285.984200, expected=56704.574219\n",
            "predicted=56094.992835, expected=49150.535156\n",
            "predicted=49095.367118, expected=49716.191406\n",
            "predicted=48879.426698, expected=49880.535156\n",
            "predicted=50572.855519, expected=46760.187500\n",
            "predicted=47075.362003, expected=46456.058594\n",
            "predicted=46265.272701, expected=43537.511719\n",
            "predicted=43469.470379, expected=42909.402344\n",
            "predicted=43197.446991, expected=37002.441406\n",
            "predicted=36191.435760, expected=40782.738281\n",
            "predicted=40262.408821, expected=37304.691406\n",
            "predicted=36574.804525, expected=37536.632812\n",
            "predicted=37005.513383, expected=34770.582031\n",
            "predicted=34353.396907, expected=38705.980469\n",
            "predicted=39766.531968, expected=38402.222656\n",
            "predicted=37973.942287, expected=39294.199219\n",
            "predicted=39123.532520, expected=38436.968750\n",
            "predicted=38875.119439, expected=35697.605469\n",
            "predicted=34375.956110, expected=34616.066406\n",
            "predicted=35342.609423, expected=35678.128906\n",
            "predicted=34846.013437, expected=37332.855469\n",
            "predicted=36919.338908, expected=36684.925781\n",
            "predicted=36597.083232, expected=37575.179688\n",
            "predicted=37757.879443, expected=39208.765625\n",
            "predicted=39580.597721, expected=36894.406250\n",
            "predicted=36597.445498, expected=35551.957031\n",
            "predicted=35214.870742, expected=35862.378906\n",
            "predicted=34823.018192, expected=33560.707031\n",
            "predicted=33566.190899, expected=33472.632812\n",
            "predicted=33260.667748, expected=37345.121094\n",
            "predicted=37659.382891, expected=36702.597656\n",
            "predicted=36793.145790, expected=37334.398438\n",
            "predicted=37400.437256, expected=35552.515625\n",
            "predicted=35910.657397, expected=39097.859375\n",
            "predicted=39137.083043, expected=40218.476562\n",
            "predicted=39675.851430, expected=40406.269531\n",
            "predicted=39840.194433, expected=38347.062500\n",
            "predicted=37740.762737, expected=38053.503906\n",
            "predicted=38307.652176, expected=35787.246094\n",
            "predicted=36497.027765, expected=35615.871094\n",
            "predicted=35780.216935, expected=35698.296875\n",
            "predicted=35588.511225, expected=31676.693359\n",
            "predicted=31421.828899, expected=32505.660156\n",
            "predicted=32671.922115, expected=33723.027344\n",
            "predicted=33216.034119, expected=34662.437500\n",
            "predicted=34653.492520, expected=31637.779297\n",
            "predicted=30623.710292, expected=32186.277344\n",
            "predicted=31830.122654, expected=34649.644531\n",
            "predicted=35193.870338, expected=34434.335938\n",
            "predicted=34215.222232, expected=35867.777344\n",
            "predicted=35796.060667, expected=35040.835938\n",
            "predicted=34805.666353, expected=33572.117188\n",
            "predicted=34037.798378, expected=33897.046875\n",
            "predicted=34119.899363, expected=34668.546875\n",
            "predicted=35104.050956, expected=35287.781250\n",
            "predicted=34622.760350, expected=33746.003906\n",
            "predicted=33304.863889, expected=34235.195312\n",
            "predicted=34444.127718, expected=33855.328125\n",
            "predicted=33417.671009, expected=32877.371094\n",
            "predicted=33105.185008, expected=33798.011719\n",
            "predicted=33127.327331, expected=33520.519531\n",
            "predicted=33261.084680, expected=34240.187500\n",
            "predicted=34289.629199, expected=33155.847656\n",
            "predicted=33130.315364, expected=32702.025391\n",
            "predicted=32934.227234, expected=32822.347656\n",
            "predicted=32361.321202, expected=31780.730469\n",
            "predicted=32146.367693, expected=31421.539062\n",
            "predicted=31224.220174, expected=31533.068359\n",
            "predicted=31384.528592, expected=31796.810547\n",
            "predicted=32100.383338, expected=30817.832031\n",
            "predicted=30308.257945, expected=29807.347656\n",
            "predicted=29807.410315, expected=32110.693359\n",
            "predicted=32007.846215, expected=32313.105469\n",
            "predicted=32291.580262, expected=33581.550781\n",
            "predicted=33365.965579, expected=34292.445312\n",
            "predicted=33968.631356, expected=35350.187500\n",
            "predicted=35648.421466, expected=37337.535156\n",
            "predicted=37015.553170, expected=39406.941406\n",
            "predicted=39586.621321, expected=39995.906250\n",
            "predicted=39955.306209, expected=40008.421875\n",
            "predicted=39808.475978, expected=42235.546875\n",
            "predicted=42689.756128, expected=41626.195312\n",
            "predicted=41482.739345, expected=39974.894531\n",
            "predicted=39978.810498, expected=39201.945312\n",
            "predicted=38988.649876, expected=38152.980469\n",
            "predicted=38275.776726, expected=39747.503906\n",
            "predicted=39753.426407, expected=40869.554688\n",
            "predicted=40644.852717, expected=42816.500000\n",
            "predicted=42860.188166, expected=44555.800781\n",
            "predicted=44001.831227, expected=43798.117188\n",
            "predicted=44040.546576, expected=46365.402344\n",
            "predicted=46363.500722, expected=45585.031250\n",
            "predicted=45171.694578, expected=45593.636719\n",
            "predicted=45614.420426, expected=44428.289062\n",
            "predicted=44158.351141, expected=47793.320312\n",
            "predicted=48431.046626, expected=47096.945312\n",
            "predicted=47271.802424, expected=47047.003906\n",
            "predicted=47407.596084, expected=46004.484375\n",
            "predicted=45944.865350, expected=44695.359375\n",
            "predicted=44716.008973, expected=44801.187500\n",
            "predicted=44705.321837, expected=46717.578125\n",
            "predicted=45804.858338, expected=49339.175781\n",
            "predicted=49136.632690, expected=48905.492188\n",
            "predicted=48093.977276, expected=49321.652344\n",
            "predicted=49696.971607, expected=49546.148438\n",
            "predicted=49914.030384, expected=47706.117188\n",
            "predicted=47734.989340, expected=48960.789062\n",
            "predicted=49004.579109, expected=46942.218750\n",
            "predicted=46501.697506, expected=49058.667969\n",
            "predicted=49226.171075, expected=48902.402344\n",
            "predicted=48740.474930, expected=48829.832031\n",
            "predicted=49262.945157, expected=47054.984375\n",
            "predicted=46536.000197, expected=47166.687500\n",
            "predicted=47330.155076, expected=48847.027344\n",
            "predicted=48804.318838, expected=49327.722656\n",
            "predicted=48529.936158, expected=50025.375000\n",
            "predicted=49868.991354, expected=49944.625000\n",
            "predicted=49382.459120, expected=51753.410156\n",
            "predicted=52144.780035, expected=52633.535156\n",
            "predicted=52552.547740, expected=46811.128906\n",
            "predicted=47024.313621, expected=46091.390625\n",
            "predicted=45998.935889, expected=46391.421875\n",
            "predicted=46270.212933, expected=44883.910156\n",
            "predicted=45218.818581, expected=45365.398438\n"
          ]
        }
      ]
    },
    {
      "cell_type": "code",
      "metadata": {
        "colab": {
          "base_uri": "https://localhost:8080/",
          "height": 265
        },
        "id": "FiCYIO62oI4X",
        "outputId": "32427141-8c78-4a7c-f386-13605760b5dc"
      },
      "source": [
        "pyplot.plot(test)\n",
        "pyplot.plot(predictions, color='red')\n",
        "pyplot.show()"
      ],
      "execution_count": null,
      "outputs": [
        {
          "output_type": "display_data",
          "data": {
            "image/png": "[encoded data removed]",
            "text/plain": [
              "<Figure size 432x288 with 1 Axes>"
            ]
          },
          "metadata": {
            "needs_background": "light"
          }
        }
      ]
    },
    {
      "cell_type": "code",
      "metadata": {
        "colab": {
          "base_uri": "https://localhost:8080/"
        },
        "id": "syo7sQhcoSkn",
        "outputId": "db13e0b5-0f48-4aa8-dba4-0c9c8711a76b"
      },
      "source": [
        "from sklearn.metrics import r2_score\n",
        "r_squre = r2_score(test, predictions)\n",
        "print(\"r2_score:\", r_squre)"
      ],
      "execution_count": null,
      "outputs": [
        {
          "output_type": "stream",
          "name": "stdout",
          "text": [
            "r2_score: 0.992844297954233\n"
          ]
        }
      ]
    },
    {
      "cell_type": "code",
      "metadata": {
        "colab": {
          "base_uri": "https://localhost:8080/"
        },
        "id": "snmFSppotVTz",
        "outputId": "03c344d3-9834-4f82-ebe9-39039066f445"
      },
      "source": [
        "from sklearn.metrics import mean_absolute_error\n",
        "mae = mean_absolute_error(test, predictions)\n",
        "print('MAE: %f' % mae)"
      ],
      "execution_count": null,
      "outputs": [
        {
          "output_type": "stream",
          "name": "stdout",
          "text": [
            "MAE: 924.740301\n"
          ]
        }
      ]
    },
    {
      "cell_type": "code",
      "metadata": {
        "colab": {
          "base_uri": "https://localhost:8080/"
        },
        "id": "E-lO2-gguAvm",
        "outputId": "41ad8664-9439-4a76-980d-a7450ffb0aff"
      },
      "source": [
        "from sklearn.metrics import mean_squared_error\n",
        "from math import sqrt\n",
        "mse = mean_squared_error(test, predictions)\n",
        "rmse = sqrt(mse)\n",
        "print('RMSE: %f' % rmse)"
      ],
      "execution_count": null,
      "outputs": [
        {
          "output_type": "stream",
          "name": "stdout",
          "text": [
            "RMSE: 1480.577786\n"
          ]
        }
      ]
    },
    {
      "cell_type": "code",
      "metadata": {
        "id": "7L5087ftViFR",
        "colab": {
          "base_uri": "https://localhost:8080/"
        },
        "outputId": "3641c02e-67da-4622-98aa-21e8cb186bcb"
      },
      "source": [
        "errors = abs(test - predictions)\n",
        "mape = 100 * (errors / test)\n",
        "accuracy = 100 - np.mean(mape)\n",
        "print('Accuracy:', round(accuracy, 2), '%.')"
      ],
      "execution_count": null,
      "outputs": [
        {
          "output_type": "stream",
          "name": "stdout",
          "text": [
            "Accuracy: 97.21 %.\n"
          ]
        }
      ]
    }
  ]
}